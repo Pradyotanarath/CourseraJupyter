{
 "cells": [
  {
   "cell_type": "markdown",
   "metadata": {},
   "source": [
    "    \n",
    "      \n",
    "<a id='toc'></a>\n",
    "<center><h1>The Battle of Neighborhood</font></h1>\n",
    "Segmenting and Clustering Neighborhoods of Kuala Lumpur and Johor Bahru  \n",
    "</center>\n",
    "\n",
    "----"
   ]
  },
  {
   "cell_type": "markdown",
   "metadata": {},
   "source": [
    "## Table of Contents\n",
    "- [Introduction](#introduction)\n",
    "- [Objectives](#objective)\n",
    "- [Data](#data)"
   ]
  },
  {
   "cell_type": "markdown",
   "metadata": {},
   "source": [
    "<a id='introduction'></a>\n",
    "# Introduction\n",
    "Kuala Lumpur and Johor Bahru are two major cities in Malaysia. Both cities become a center of attention for residential, job employment, tourism, education, shopping and sports activity. Both cities are well known in Malaysia, and become the top choice for local and foreign communities.\n",
    "\n",
    "Brief information about both cities:\n",
    "- Kuala Lumpur: is the national capital of Malaysia as well as its largest city. The only global city in Malaysia, it covers an area of 243 km2 (94 sq mi) and has an estimated population of 1.73 million as of 2016. Greater Kuala Lumpur, also known as the Klang Valley, is an urban agglomeration of 7.25 million people as of 2017.It is among the fastest growing metropolitan regions in South-East Asia, in both population and economic development. (source: https://en.wikipedia.org/wiki/Kuala_Lumpur)  \n",
    "\n",
    "- Johor Bahru: formerly known as Tanjung Puteri or Iskandar Puteri, is the capital of the state of Johor, Malaysia. It is situated along the Straits of Johor at the southern end of Peninsular Malaysia. Johor Bahru has a population of 497,097, while its metropolitan area, with a population of 1,638,219, is the third largest in the country. (source: https://en.wikipedia.org/wiki/Johor_Bahru)"
   ]
  },
  {
   "cell_type": "markdown",
   "metadata": {},
   "source": [
    "<a id='objective'></a>\n",
    "# Objective\n",
    "In this project, we will study in details the area classification using Foursquare data and machine learning segmentation and clustering.\n",
    "The aim of this project is to segment areas of Kuala Lumpur and Johor Bahru based on the most common places captured from Foursquare. \n",
    "\n",
    "Using segmentation and clustering, we hope we can determine:\n",
    "1. the similarity or dissimilarirty of both cities\n",
    "2. classification of area located inside the city whether it is residential, tourism places, or others"
   ]
  },
  {
   "cell_type": "markdown",
   "metadata": {},
   "source": [
    "<a id='data'></a>\n",
    "# Data\n",
    "The data acquired from wikipedia pages and restructure to csv file for easier manipulation and reading. Both files uploaded to my github for references. Link to the files are:\n",
    "- https://github.com/Pradyotanarath/CourseraJupyter/blob/master/JB_disrict.csv\n",
    "- https://github.com/Pradyotanarath/CourseraJupyter/blob/master/KL_disrict.csv\n",
    "\n",
    "\n",
    "Another aspect to consider for this project is the Foursquare data. I believe that the data as good as provided, meaning although we are using Foursquare data for segmentation and clustering, the amount and accuracy of data captured can't 100% determine correct classification in real world."
   ]
  },
  {
   "cell_type": "code",
   "execution_count": null,
   "metadata": {},
   "outputs": [],
   "source": []
  }
 ],
 "metadata": {
  "kernelspec": {
   "display_name": "Python 3",
   "language": "python",
   "name": "python3"
  },
  "language_info": {
   "codemirror_mode": {
    "name": "ipython",
    "version": 3
   },
   "file_extension": ".py",
   "mimetype": "text/x-python",
   "name": "python",
   "nbconvert_exporter": "python",
   "pygments_lexer": "ipython3",
   "version": "3.6.5"
  }
 },
 "nbformat": 4,
 "nbformat_minor": 2
}
